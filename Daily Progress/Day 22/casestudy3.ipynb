{
 "cells": [
  {
   "cell_type": "code",
   "execution_count": null,
   "id": "90f7dd52-2a1d-4a3b-a129-ff5526aac10e",
   "metadata": {},
   "outputs": [],
   "source": [
    "import base64\n",
    "import re\n",
    "\n",
    "def is_valid_reference_id(ref_id):\n",
    "    # Allows alphanumeric and special characters @, #, $\n",
    "    pattern = r'^[A-Za-z0-9@#$]{12}$'\n",
    "    return bool(re.match(pattern, ref_id))\n",
    "\n",
    "def encrypt_ref_id(ref_id):\n",
    "    encoded = base64.b64encode(ref_id.encode('utf-8'))\n",
    "    return encoded.decode('utf-8')\n",
    "\n",
    "def decrypt_ref_id(encoded_id):\n",
    "    decoded = base64.b64decode(encoded_id.encode('utf-8'))\n",
    "    return decoded.decode('utf-8')\n",
    "\n",
    "def main():\n",
    "    ref_id = input(\"Enter Reference ID (12 characters - alphanumeric or @#$): \")\n",
    "    \n",
    "    if not is_valid_reference_id(ref_id):\n",
    "        print(\"Invalid Reference ID. It must be exactly 12 characters long and can include A-Z, a-z, 0-9, @, #, $.\")\n",
    "        return\n",
    "\n",
    "    encrypted = encrypt_ref_id(ref_id)\n",
    "    print(f\"Encrypted Reference ID: {encrypted}\")\n",
    "\n",
    "    # Enhancement: Ask if the user wants to decrypt\n",
    "    decrypt_choice = input(\"Do you want to decrypt the Reference ID? (yes/no): \").strip().lower()\n",
    "    if decrypt_choice == 'yes':\n",
    "        decrypted = decrypt_ref_id(encrypted)\n",
    "        print(f\"Decrypted Reference ID: {decrypted}\")\n",
    "\n",
    "if __name__ == \"__main__\":\n",
    "    main()\n"
   ]
  },
  {
   "cell_type": "code",
   "execution_count": null,
   "id": "c316ba0a-9d72-4c10-922f-7ba78f9d4e71",
   "metadata": {},
   "outputs": [],
   "source": []
  }
 ],
 "metadata": {
  "kernelspec": {
   "display_name": "Python 3 (ipykernel)",
   "language": "python",
   "name": "python3"
  },
  "language_info": {
   "codemirror_mode": {
    "name": "ipython",
    "version": 3
   },
   "file_extension": ".py",
   "mimetype": "text/x-python",
   "name": "python",
   "nbconvert_exporter": "python",
   "pygments_lexer": "ipython3",
   "version": "3.12.7"
  }
 },
 "nbformat": 4,
 "nbformat_minor": 5
}
