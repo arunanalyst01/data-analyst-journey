{
 "cells": [
  {
   "cell_type": "code",
   "execution_count": 7,
   "id": "b175e67a-168f-4f54-b334-372f37a88190",
   "metadata": {},
   "outputs": [
    {
     "name": "stdout",
     "output_type": "stream",
     "text": [
      "Requirement already satisfied: pdfminer.six in c:\\users\\aruna\\anaconda3\\lib\\site-packages (20250506)\n",
      "Requirement already satisfied: charset-normalizer>=2.0.0 in c:\\users\\aruna\\anaconda3\\lib\\site-packages (from pdfminer.six) (3.3.2)\n",
      "Requirement already satisfied: cryptography>=36.0.0 in c:\\users\\aruna\\anaconda3\\lib\\site-packages (from pdfminer.six) (43.0.0)\n",
      "Requirement already satisfied: cffi>=1.12 in c:\\users\\aruna\\anaconda3\\lib\\site-packages (from cryptography>=36.0.0->pdfminer.six) (1.17.1)\n",
      "Requirement already satisfied: pycparser in c:\\users\\aruna\\anaconda3\\lib\\site-packages (from cffi>=1.12->cryptography>=36.0.0->pdfminer.six) (2.21)\n"
     ]
    }
   ],
   "source": [
    "!pip install pdfminer.six"
   ]
  },
  {
   "cell_type": "code",
   "execution_count": 8,
   "id": "275349cc-3395-4ae7-927a-83202d2c3b58",
   "metadata": {},
   "outputs": [
    {
     "name": "stdout",
     "output_type": "stream",
     "text": [
      "✅ pdfminer is working!\n"
     ]
    }
   ],
   "source": [
    "from pdfminer.high_level import extract_text\n",
    "print(\"✅ pdfminer is working!\")"
   ]
  },
  {
   "cell_type": "code",
   "execution_count": 44,
   "id": "773195a9-8cc0-4393-8dfd-726ff3bab01e",
   "metadata": {},
   "outputs": [
    {
     "name": "stdout",
     "output_type": "stream",
     "text": [
      "Arunachalam \n",
      "\n",
      "  arunachalam012001@gmail.com  \n",
      "\n",
      "  8489472154  \n",
      "\n",
      "  kancheepuram  \n",
      "\n",
      "Education \n",
      "\n",
      "VELS INSTITUTE OF TECHNOLOGY AND ADVANCE STUDIES \n",
      "Msc Data Science & Business Analyst \n",
      "\n",
      "VELS INSTITUTE OF TECHNOLOGY AND ADVANCE STUDIES BCA \n",
      "(GENERAL ) \n",
      "\n",
      "Professional Experience \n",
      "\n",
      "The Pearl \n",
      "SYSTEM ADMINISTRATOR \n",
      "Managed IT systems and databases, ensured smooth operation of software tools, and \n",
      "supported technical tasks that required attention to detail \n",
      "\n",
      "ROYAL ENFIELD \n",
      "INVENTORY ANALYST \n",
      "Worked as an Inventory Analyst handling product data, improving data accuracy, and \n",
      "supporting operations with data-driven insights \n",
      "\n",
      "08/2024 – 07/2026 \n",
      "PALLAVARAM \n",
      "\n",
      "08/2019 – 07/2022 \n",
      "\n",
      "12/2023 – 06/2024 \n",
      "KANCHEEPURAM \n",
      "\n",
      "07/2022 – 03/2023 \n",
      "\n",
      "ORAGADAM \n",
      "\n",
      "DOMINOS \n",
      "PART-Guest Service Representative \n",
      "Developed time management and communication skills while balancing work and \n",
      "studies in a fast-paced environment \n",
      "\n",
      "04/2023 – 11/2023 \n",
      "\n",
      "HSR - LAYOUT \n",
      "KARNATAKA \n",
      "\n",
      "Profile \n",
      "\n",
      "Aspiring Data Analyst with hands-on skills in SQ\n"
     ]
    }
   ],
   "source": [
    "def extract_resume_text(file_path):\n",
    "    try:\n",
    "        text =extract_text(file_path)\n",
    "        return text\n",
    "    except Exception as e:\n",
    "        return f\"Error reading file: {e}\"\n",
    "\n",
    "# Try it\n",
    "resume_path = \"E:/ResumeMentor-AI/datasets/resume_dataset/Sample_resume.pdf\"\n",
    "text = extract_resume_text(resume_path)\n",
    "print(text[:1000])  # show first 1000 characters\n"
   ]
  },
  {
   "cell_type": "code",
   "execution_count": 46,
   "id": "dfeb57d3-9ac9-4759-8d15-5e06d60d1999",
   "metadata": {},
   "outputs": [
    {
     "ename": "ModuleNotFoundError",
     "evalue": "No module named 'resume_parser'",
     "output_type": "error",
     "traceback": [
      "\u001b[1;31m---------------------------------------------------------------------------\u001b[0m",
      "\u001b[1;31mModuleNotFoundError\u001b[0m                       Traceback (most recent call last)",
      "Cell \u001b[1;32mIn[46], line 2\u001b[0m\n\u001b[0;32m      1\u001b[0m \u001b[38;5;28;01mfrom\u001b[39;00m \u001b[38;5;21;01mskill_matcher\u001b[39;00m \u001b[38;5;28;01mimport\u001b[39;00m load_job_roles, match_skills\n\u001b[1;32m----> 2\u001b[0m \u001b[38;5;28;01mfrom\u001b[39;00m \u001b[38;5;21;01mresume_parser\u001b[39;00m \u001b[38;5;28;01mimport\u001b[39;00m extract_resume_text\n\u001b[0;32m      4\u001b[0m resume_text \u001b[38;5;241m=\u001b[39m extract_resume_text(\u001b[38;5;124m\"\u001b[39m\u001b[38;5;124mE:/ResumeMentor-AI/datasets/resume_dataset/Sample_resume.pdf\u001b[39m\u001b[38;5;124m\"\u001b[39m)\n\u001b[0;32m      5\u001b[0m job_data \u001b[38;5;241m=\u001b[39m load_job_roles(\u001b[38;5;124mr\u001b[39m\u001b[38;5;124m\"\u001b[39m\u001b[38;5;124mE:\u001b[39m\u001b[38;5;124m\\\u001b[39m\u001b[38;5;124mResumeMentor-AI\u001b[39m\u001b[38;5;124m\\\u001b[39m\u001b[38;5;124mdatasets\u001b[39m\u001b[38;5;124m\\\u001b[39m\u001b[38;5;124mjob_roles.csv\u001b[39m\u001b[38;5;124m\"\u001b[39m)  \u001b[38;5;66;03m# ✅ fixed function name\u001b[39;00m\n",
      "\u001b[1;31mModuleNotFoundError\u001b[0m: No module named 'resume_parser'"
     ]
    }
   ],
   "source": [
    "from skill_matcher import load_job_roles, match_skills\n",
    "from resume_parser import extract_resume_text\n",
    "\n",
    "resume_text = extract_resume_text(\"E:/ResumeMentor-AI/datasets/resume_dataset/Sample_resume.pdf\")\n",
    "job_data = load_job_roles(r\"E:\\ResumeMentor-AI\\datasets\\job_roles.csv\")  # ✅ fixed function name\n",
    "matches = match_skills(resume_text, job_data)\n",
    "for role, score, matched_skills in matches:\n",
    "    print(f\"Role: {role}\")\n",
    "    print(f\"Match Score: {score:.2f}%\")\n",
    "    print(f\"Matched Skills: {matched_skills}\")\n",
    "    print(\"=\"*40)"
   ]
  },
  {
   "cell_type": "code",
   "execution_count": null,
   "id": "146b6172-146c-452d-b7eb-f47520740585",
   "metadata": {},
   "outputs": [],
   "source": []
  },
  {
   "cell_type": "code",
   "execution_count": null,
   "id": "d05be50f-9c63-40ee-9ffd-b1f5ee7916a6",
   "metadata": {},
   "outputs": [],
   "source": []
  },
  {
   "cell_type": "code",
   "execution_count": null,
   "id": "f8775d79-ddf0-4b1c-b5c2-132c0fbf5aff",
   "metadata": {},
   "outputs": [],
   "source": []
  },
  {
   "cell_type": "code",
   "execution_count": null,
   "id": "441b6718-ccaf-4197-8d34-0ea5e6800123",
   "metadata": {},
   "outputs": [],
   "source": []
  },
  {
   "cell_type": "code",
   "execution_count": null,
   "id": "32eb4260-32aa-4f21-82a5-9571284d3ff0",
   "metadata": {},
   "outputs": [],
   "source": []
  },
  {
   "cell_type": "code",
   "execution_count": null,
   "id": "fd0b8fd5-655a-4e0c-b81f-2ad68d1a7ba2",
   "metadata": {},
   "outputs": [],
   "source": []
  }
 ],
 "metadata": {
  "kernelspec": {
   "display_name": "Python 3 (ipykernel)",
   "language": "python",
   "name": "python3"
  },
  "language_info": {
   "codemirror_mode": {
    "name": "ipython",
    "version": 3
   },
   "file_extension": ".py",
   "mimetype": "text/x-python",
   "name": "python",
   "nbconvert_exporter": "python",
   "pygments_lexer": "ipython3",
   "version": "3.12.7"
  }
 },
 "nbformat": 4,
 "nbformat_minor": 5
}
