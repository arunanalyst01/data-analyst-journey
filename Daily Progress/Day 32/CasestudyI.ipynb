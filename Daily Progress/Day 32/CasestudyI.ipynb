{
 "cells": [
  {
   "cell_type": "code",
   "execution_count": null,
   "id": "0a893ca8-6793-44d6-b42c-2246b1e91f0b",
   "metadata": {},
   "outputs": [],
   "source": [
    "import pandas as pd\n",
    "import numpy as np\n",
    "import seaborn as sns\n",
    "import matplotlib.pyplot as plt\n",
    "\n",
    "from sklearn.preprocessing import LabelEncoder\n",
    "from sklearn.model_selection import train_test_split\n",
    "from sklearn.linear_model import LogisticRegression\n",
    "from sklearn.metrics import accuracy_score\n"
   ]
  },
  {
   "cell_type": "code",
   "execution_count": null,
   "id": "e2f8fbbf-1cd8-4d58-a1e9-887d4771f718",
   "metadata": {},
   "outputs": [],
   "source": [
    "# Load dataset\n",
    "df = pd.read_csv('voice.csv')\n",
    "\n",
    "# Display first few rows\n",
    "print(df.head())\n",
    "\n",
    "# Encode the target variable 'label'\n",
    "label_encoder = LabelEncoder()\n",
    "df['label'] = label_encoder.fit_transform(df['label'])  # female=0, male=1\n",
    "\n",
    "# Split features and target\n",
    "X = df.drop('label', axis=1)\n",
    "y = df['label']\n",
    "\n",
    "# Split dataset: 80% train, 20% test\n",
    "X_train, X_test, y_train, y_test = train_test_split(X, y, test_size=0.2, random_state=42)\n"
   ]
  },
  {
   "cell_type": "code",
   "execution_count": null,
   "id": "b389c385-31b6-46ce-87ee-f8d1fc02e324",
   "metadata": {},
   "outputs": [],
   "source": [
    "# Create and train logistic regression model\n",
    "log_reg = LogisticRegression(max_iter=1000)\n",
    "log_reg.fit(X_train, y_train)\n",
    "\n",
    "# Predict on test set\n",
    "y_pred = log_reg.predict(X_test)\n",
    "\n",
    "# Calculate accuracy\n",
    "accuracy = accuracy_score(y_test, y_pred)\n",
    "print(f\"Test Accuracy: {accuracy:.4f}\")\n"
   ]
  },
  {
   "cell_type": "code",
   "execution_count": null,
   "id": "08d3d458-32a6-43ff-a46e-a1e10310b7f6",
   "metadata": {},
   "outputs": [],
   "source": [
    "# Compute correlation matrix\n",
    "corr_matrix = X.corr()\n",
    "\n",
    "# Plot heatmap\n",
    "plt.figure(figsize=(12, 10))\n",
    "sns.heatmap(corr_matrix, cmap='coolwarm', annot=False)\n",
    "plt.title('Correlation Matrix')\n",
    "plt.show()\n"
   ]
  },
  {
   "cell_type": "code",
   "execution_count": null,
   "id": "0df2b239-3399-4abc-8ab8-e6a2af19fa3a",
   "metadata": {},
   "outputs": [],
   "source": [
    "# Find correlated features (correlation > 0.9)\n",
    "def get_correlated_features(corr_matrix, threshold=0.9):\n",
    "    correlated_features = set()\n",
    "    for i in range(len(corr_matrix.columns)):\n",
    "        for j in range(i):\n",
    "            if abs(corr_matrix.iloc[i, j]) > threshold:\n",
    "                colname = corr_matrix.columns[i]\n",
    "                correlated_features.add(colname)\n",
    "    return correlated_features\n",
    "\n",
    "high_corr_features = get_correlated_features(corr_matrix, threshold=0.9)\n",
    "print(f\"Highly Correlated Features to Remove: {high_corr_features}\")\n",
    "\n",
    "# Drop highly correlated features\n",
    "X_reduced = X.drop(columns=high_corr_features)\n",
    "\n",
    "# Split again\n",
    "X_train_r, X_test_r, y_train_r, y_test_r = train_test_split(X_reduced, y, test_size=0.2, random_state=42)\n",
    "\n",
    "# Fit logistic regression on reduced dataset\n",
    "log_reg_reduced = LogisticRegression(max_iter=1000)\n",
    "log_reg_reduced.fit(X_train_r, y_train_r)\n",
    "\n",
    "# Predict and measure accuracy\n",
    "y_pred_r = log_reg_reduced.predict(X_test_r)\n",
    "reduced_accuracy = accuracy_score(y_test_r, y_pred_r)\n",
    "print(f\"Reduced Model Test Accuracy: {reduced_accuracy:.4f}\")\n"
   ]
  }
 ],
 "metadata": {
  "kernelspec": {
   "display_name": "Python 3 (ipykernel)",
   "language": "python",
   "name": "python3"
  },
  "language_info": {
   "codemirror_mode": {
    "name": "ipython",
    "version": 3
   },
   "file_extension": ".py",
   "mimetype": "text/x-python",
   "name": "python",
   "nbconvert_exporter": "python",
   "pygments_lexer": "ipython3",
   "version": "3.12.7"
  }
 },
 "nbformat": 4,
 "nbformat_minor": 5
}
