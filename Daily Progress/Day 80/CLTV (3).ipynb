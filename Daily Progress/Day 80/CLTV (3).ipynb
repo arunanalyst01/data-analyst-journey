{
 "cells": [
  {
   "cell_type": "code",
   "execution_count": 10,
   "id": "83f38d62-e6df-4429-9b16-b5952b580ef4",
   "metadata": {},
   "outputs": [
    {
     "name": "stdout",
     "output_type": "stream",
     "text": [
      "   id  gender   area qualification         income  marital_status  vintage  \\\n",
      "0   1    Male  Urban      Bachelor         5L-10L               1        5   \n",
      "1   2    Male  Rural   High School         5L-10L               0        8   \n",
      "2   3    Male  Urban      Bachelor         5L-10L               1        8   \n",
      "3   4  Female  Rural   High School         5L-10L               0        7   \n",
      "4   5    Male  Urban   High School  More than 10L               1        6   \n",
      "\n",
      "   claim_amount num_policies policy type_of_policy    cltv  \n",
      "0          5790  More than 1      A       Platinum   64308  \n",
      "1          5080  More than 1      A       Platinum  515400  \n",
      "2          2599  More than 1      A       Platinum   64212  \n",
      "3             0  More than 1      A       Platinum   97920  \n",
      "4          3508  More than 1      A           Gold   59736  \n",
      "<class 'pandas.core.frame.DataFrame'>\n",
      "RangeIndex: 89392 entries, 0 to 89391\n",
      "Data columns (total 12 columns):\n",
      " #   Column          Non-Null Count  Dtype \n",
      "---  ------          --------------  ----- \n",
      " 0   id              89392 non-null  int64 \n",
      " 1   gender          89392 non-null  object\n",
      " 2   area            89392 non-null  object\n",
      " 3   qualification   89392 non-null  object\n",
      " 4   income          89392 non-null  object\n",
      " 5   marital_status  89392 non-null  int64 \n",
      " 6   vintage         89392 non-null  int64 \n",
      " 7   claim_amount    89392 non-null  int64 \n",
      " 8   num_policies    89392 non-null  object\n",
      " 9   policy          89392 non-null  object\n",
      " 10  type_of_policy  89392 non-null  object\n",
      " 11  cltv            89392 non-null  int64 \n",
      "dtypes: int64(5), object(7)\n",
      "memory usage: 8.2+ MB\n",
      "None\n"
     ]
    }
   ],
   "source": [
    "import pandas as pd\n",
    "data = pd.read_csv('E:elevates_lab_project/train_BRCpofr.csv')\n",
    "print(data.head())\n",
    "print(data.info())"
   ]
  },
  {
   "cell_type": "code",
   "execution_count": 14,
   "id": "8809a41a-abf8-4b76-aced-708a78ae480e",
   "metadata": {},
   "outputs": [
    {
     "name": "stdout",
     "output_type": "stream",
     "text": [
      "id                0\n",
      "gender            0\n",
      "area              0\n",
      "qualification     0\n",
      "income            0\n",
      "marital_status    0\n",
      "vintage           0\n",
      "claim_amount      0\n",
      "num_policies      0\n",
      "policy            0\n",
      "type_of_policy    0\n",
      "cltv              0\n",
      "dtype: int64\n"
     ]
    }
   ],
   "source": [
    "print(data.isnull().sum())"
   ]
  },
  {
   "cell_type": "code",
   "execution_count": 32,
   "id": "f4193f0a-cc00-4d03-ae2a-fdd16f1127dd",
   "metadata": {},
   "outputs": [],
   "source": [
    "# Selecting a  Numeric Columns for Modeling\n",
    "features = ['income', 'vintage', 'claim_amount', 'num_policies']\n",
    "X = data[features]\n",
    "y = data['cltv']"
   ]
  },
  {
   "cell_type": "code",
   "execution_count": 30,
   "id": "be0f9cef-74d4-4ab7-aa35-f06c02a73f5a",
   "metadata": {},
   "outputs": [
    {
     "name": "stdout",
     "output_type": "stream",
     "text": [
      "['5L-10L' 'More than 10L' '2L-5L' '<=2L']\n"
     ]
    }
   ],
   "source": [
    "print(data['income'].unique())"
   ]
  },
  {
   "cell_type": "code",
   "execution_count": 38,
   "id": "822f76d8-8924-41c9-9039-e90f41ebcd85",
   "metadata": {},
   "outputs": [],
   "source": [
    "features = ['income_numeric', 'vintage', 'claim_amount', 'num_policies']\n"
   ]
  },
  {
   "cell_type": "code",
   "execution_count": null,
   "id": "452baa1d-b131-4888-a0f6-6fb4028ba8e4",
   "metadata": {},
   "outputs": [],
   "source": []
  }
 ],
 "metadata": {
  "kernelspec": {
   "display_name": "Python 3 (ipykernel)",
   "language": "python",
   "name": "python3"
  },
  "language_info": {
   "codemirror_mode": {
    "name": "ipython",
    "version": 3
   },
   "file_extension": ".py",
   "mimetype": "text/x-python",
   "name": "python",
   "nbconvert_exporter": "python",
   "pygments_lexer": "ipython3",
   "version": "3.12.7"
  }
 },
 "nbformat": 4,
 "nbformat_minor": 5
}
