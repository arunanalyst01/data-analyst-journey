{
 "cells": [
  {
   "cell_type": "code",
   "execution_count": 2,
   "id": "c784d6fc-d565-4f13-9d89-a496292186e6",
   "metadata": {},
   "outputs": [],
   "source": [
    "# CLTV Prediction Project Using Python Only\n",
    "\n",
    "import pandas as pd\n",
    "import numpy as np\n",
    "from sklearn.model_selection import train_test_split\n",
    "from sklearn.preprocessing import StandardScaler\n",
    "from xgboost import XGBRegressor\n",
    "from sklearn.metrics import r2_score, mean_squared_error\n",
    "import matplotlib.pyplot as plt\n"
   ]
  },
  {
   "cell_type": "code",
   "execution_count": 23,
   "id": "a99c28e9-3736-4303-9290-21d871978b90",
   "metadata": {},
   "outputs": [],
   "source": [
    "# Step 1: Load Dataset\n",
    "data = pd.read_csv('E:/elevates_lab_project/train_BRCpofr.csv')\n"
   ]
  },
  {
   "cell_type": "code",
   "execution_count": 27,
   "id": "cea5914a-3316-4964-99bd-49fa3a91bfb7",
   "metadata": {},
   "outputs": [
    {
     "ename": "SyntaxError",
     "evalue": "expression cannot contain assignment, perhaps you meant \"==\"? (2948662932.py, line 9)",
     "output_type": "error",
     "traceback": [
      "\u001b[1;36m  Cell \u001b[1;32mIn[27], line 9\u001b[1;36m\u001b[0m\n\u001b[1;33m    print(data['income_numeric'] = data['income'].map(income_mapping)\u001b[0m\n\u001b[1;37m          ^\u001b[0m\n\u001b[1;31mSyntaxError\u001b[0m\u001b[1;31m:\u001b[0m expression cannot contain assignment, perhaps you meant \"==\"?\n"
     ]
    }
   ],
   "source": [
    "# Step 2: Convert 'income' range to numeric value\n",
    "income_mapping = {\n",
    "    '3L-5L': 4,\n",
    "    '5L-10L': 7.5,\n",
    "    '10L-20L': 15,\n",
    "    '20L+': 25\n",
    "}\n",
    "data['income_numeric'] = data['income'].map(income_mapping)\n"
   ]
  },
  {
   "cell_type": "code",
   "execution_count": null,
   "id": "8c004f96-6280-4e13-b686-e816d7423898",
   "metadata": {},
   "outputs": [],
   "source": [
    "print(data['income_numeric'])\n"
   ]
  },
  {
   "cell_type": "code",
   "execution_count": 49,
   "id": "b32fc552-d3df-4975-9b8e-0909aa75b3f8",
   "metadata": {},
   "outputs": [],
   "source": [
    "# Step 3: Select Features and Target\n",
    "features = ['income_numeric', 'vintage', 'claim_amount', 'num_policies']\n",
    "X = data[features]\n",
    "y = data['cltv']"
   ]
  },
  {
   "cell_type": "code",
   "execution_count": 15,
   "id": "9dcaa1c2-3f92-4c12-aa3f-928ee9cbdff2",
   "metadata": {},
   "outputs": [
    {
     "ename": "NameError",
     "evalue": "name 'X' is not defined",
     "output_type": "error",
     "traceback": [
      "\u001b[1;31m---------------------------------------------------------------------------\u001b[0m",
      "\u001b[1;31mNameError\u001b[0m                                 Traceback (most recent call last)",
      "Cell \u001b[1;32mIn[15], line 3\u001b[0m\n\u001b[0;32m      1\u001b[0m \u001b[38;5;66;03m# Step 4: Scale Features\u001b[39;00m\n\u001b[0;32m      2\u001b[0m scaler \u001b[38;5;241m=\u001b[39m StandardScaler()\n\u001b[1;32m----> 3\u001b[0m X_scaled \u001b[38;5;241m=\u001b[39m scaler\u001b[38;5;241m.\u001b[39mfit_transform(X)\n",
      "\u001b[1;31mNameError\u001b[0m: name 'X' is not defined"
     ]
    }
   ],
   "source": [
    "# Step 4: Scale Features\n",
    "scaler = StandardScaler()\n",
    "X_scaled = scaler.fit_transform(X)"
   ]
  },
  {
   "cell_type": "code",
   "execution_count": null,
   "id": "5d7c6646-26f5-4dae-8ab2-7ae11c04446a",
   "metadata": {},
   "outputs": [],
   "source": [
    "# Step 5: Train-Test Split\n",
    "X_train, X_test, y_train, y_test = train_test_split(X_scaled, y, test_size=0.2, random_state=42)"
   ]
  },
  {
   "cell_type": "code",
   "execution_count": 19,
   "id": "04502753-c126-4d80-8865-8b2e345c7df7",
   "metadata": {},
   "outputs": [
    {
     "ename": "SyntaxError",
     "evalue": "incomplete input (2103987756.py, line 3)",
     "output_type": "error",
     "traceback": [
      "\u001b[1;36m  Cell \u001b[1;32mIn[19], line 3\u001b[1;36m\u001b[0m\n\u001b[1;33m    model.fit(X_train, y_train\u001b[0m\n\u001b[1;37m                              ^\u001b[0m\n\u001b[1;31mSyntaxError\u001b[0m\u001b[1;31m:\u001b[0m incomplete input\n"
     ]
    }
   ],
   "source": [
    "# Step 6: Train XGBoost Model\n",
    "model = XGBRegressor()\n",
    "model.fit(X_train, y_train"
   ]
  },
  {
   "cell_type": "code",
   "execution_count": null,
   "id": "c0dd6797-3e13-4db0-a088-c3cbd9e47a7b",
   "metadata": {},
   "outputs": [],
   "source": [
    "# Step 7: Evaluate Model\n",
    "y_pred = model.predict(X_test)\n",
    "print(\"R2 Score:\", r2_score(y_test, y_pred))\n",
    "print(\"RMSE:\", np.sqrt(mean_squared_error(y_test, y_pred)))\n"
   ]
  },
  {
   "cell_type": "code",
   "execution_count": null,
   "id": "12256407-1e91-4892-a54b-b20680cca938",
   "metadata": {},
   "outputs": [],
   "source": [
    "# Step 8: Feature Importance Plot\n",
    "XGBRegressor().fit(X_scaled, y)  # Refit on all data for visualization\n",
    "plt.figure(figsize=(8, 6))\n",
    "plt.bar(features, model.feature_importances_)\n",
    "plt.title('Feature Importance')\n",
    "plt.show()"
   ]
  },
  {
   "cell_type": "code",
   "execution_count": null,
   "id": "7dac848d-ce49-4a1c-aaba-58f27bb90173",
   "metadata": {},
   "outputs": [],
   "source": [
    "# Step 9: Export Predictions\n",
    "final_predictions = pd.DataFrame({\n",
    "    'CustomerID': data.loc[X_test.index, 'id'],\n",
    "    'Predicted_CLTV': y_pred\n",
    "})\n",
    "final_predictions.to_csv('../outputs/final_cltv_predictions.csv', index=False)\n",
    "print(\"Final predictions saved.\")\n"
   ]
  },
  {
   "cell_type": "code",
   "execution_count": null,
   "id": "48a38ba8-9c5b-41c5-ae5c-2e2a90023187",
   "metadata": {},
   "outputs": [],
   "source": []
  },
  {
   "cell_type": "code",
   "execution_count": null,
   "id": "7ea0ed99-fda1-4b4b-b8bf-8a5d06adfcb4",
   "metadata": {},
   "outputs": [],
   "source": []
  },
  {
   "cell_type": "code",
   "execution_count": null,
   "id": "2e893147-c629-4007-96b5-b4a9696fa047",
   "metadata": {},
   "outputs": [],
   "source": []
  }
 ],
 "metadata": {
  "kernelspec": {
   "display_name": "Python 3 (ipykernel)",
   "language": "python",
   "name": "python3"
  },
  "language_info": {
   "codemirror_mode": {
    "name": "ipython",
    "version": 3
   },
   "file_extension": ".py",
   "mimetype": "text/x-python",
   "name": "python",
   "nbconvert_exporter": "python",
   "pygments_lexer": "ipython3",
   "version": "3.12.7"
  }
 },
 "nbformat": 4,
 "nbformat_minor": 5
}
