{
 "cells": [
  {
   "cell_type": "code",
   "execution_count": 1,
   "id": "8c6681e0-f38a-4682-bb9b-faf8c0c1f726",
   "metadata": {},
   "outputs": [
    {
     "name": "stdout",
     "output_type": "stream",
     "text": [
      "Distance from origin: 2.24\n"
     ]
    }
   ],
   "source": [
    "import math\n",
    "\n",
    "# Initial coordinates\n",
    "x, y = 0, 0\n",
    "\n",
    "# Movements\n",
    "movements = [(\"UP\", 5), (\"DOWN\", 3), (\"LEFT\", 3), (\"RIGHT\", 2)]\n",
    "\n",
    "# Update position\n",
    "for direction, steps in movements:\n",
    "    if direction == \"UP\":\n",
    "        y += steps\n",
    "    elif direction == \"DOWN\":\n",
    "        y -= steps\n",
    "    elif direction == \"LEFT\":\n",
    "        x -= steps\n",
    "    elif direction == \"RIGHT\":\n",
    "        x += steps\n",
    "\n",
    "# Calculate distance from origin\n",
    "distance = math.sqrt(x**2 + y**2)\n",
    "print(f\"Distance from origin: {round(distance, 2)}\")\n"
   ]
  },
  {
   "cell_type": "code",
   "execution_count": 5,
   "id": "4d91aa31-d317-4ff1-bedb-2108188ec3ed",
   "metadata": {},
   "outputs": [
    {
     "name": "stdin",
     "output_type": "stream",
     "text": [
      "Enter name to search:  arun\n"
     ]
    },
    {
     "name": "stdout",
     "output_type": "stream",
     "text": [
      "arun not found.\n"
     ]
    }
   ],
   "source": [
    "# Sorted data\n",
    "data = [\"Alice\", \"Bob\", \"Charlie\", \"David\", \"Emma\", \"John\"]\n",
    "search_item = input(\"Enter name to search: \")\n",
    "\n",
    "# Search logic\n",
    "if search_item in data:\n",
    "    print(f\"{search_item} found in the list.\")\n",
    "else:\n",
    "    print(f\"{search_item} not found.\")\n"
   ]
  },
  {
   "cell_type": "code",
   "execution_count": 7,
   "id": "7ce58eeb-9c23-40d0-9a4b-acc513622ff2",
   "metadata": {},
   "outputs": [
    {
     "name": "stdout",
     "output_type": "stream",
     "text": [
      "It is dark outside.\n"
     ]
    }
   ],
   "source": [
    "import time\n",
    "\n",
    "# Get current hour\n",
    "current_hour = time.localtime().tm_hour\n",
    "\n",
    "if 6 <= current_hour < 18:\n",
    "    print(\"It is daytime.\")\n",
    "else:\n",
    "    print(\"It is dark outside.\")\n"
   ]
  },
  {
   "cell_type": "code",
   "execution_count": 9,
   "id": "9a3a89ec-73af-4dc7-ab4d-f5d35b98ae26",
   "metadata": {},
   "outputs": [
    {
     "name": "stdout",
     "output_type": "stream",
     "text": [
      "Distance: 1750.11 km\n"
     ]
    }
   ],
   "source": [
    "import math\n",
    "\n",
    "def haversine(lat1, lon1, lat2, lon2):\n",
    "    R = 6371  # Earth radius in km\n",
    "\n",
    "    # Convert degrees to radians\n",
    "    lat1, lon1, lat2, lon2 = map(math.radians, [lat1, lon1, lat2, lon2])\n",
    "\n",
    "    dlat = lat2 - lat1\n",
    "    dlon = lon2 - lon1\n",
    "\n",
    "    # Haversine formula\n",
    "    a = math.sin(dlat / 2)**2 + math.cos(lat1) * math.cos(lat2) * math.sin(dlon / 2)**2\n",
    "    c = 2 * math.asin(math.sqrt(a))\n",
    "    return R * c\n",
    "\n",
    "# Example coordinates\n",
    "lat1, lon1 = 12.9716, 77.5946  # Bangalore\n",
    "lat2, lon2 = 28.7041, 77.1025  # Delhi\n",
    "\n",
    "distance = haversine(lat1, lon1, lat2, lon2)\n",
    "print(f\"Distance: {round(distance, 2)} km\")\n"
   ]
  },
  {
   "cell_type": "code",
   "execution_count": 11,
   "id": "b96b5efb-b690-4b6e-8bda-390b519ff859",
   "metadata": {},
   "outputs": [
    {
     "name": "stdout",
     "output_type": "stream",
     "text": [
      "\n",
      "--- Bank Menu ---\n",
      "1. Withdraw Cash\n",
      "2. Credit Cash\n",
      "3. Change Password\n",
      "4. Exit\n"
     ]
    },
    {
     "name": "stdin",
     "output_type": "stream",
     "text": [
      "Enter your choice (1-4):  2\n",
      "Enter amount to credit:  2000\n"
     ]
    },
    {
     "name": "stdout",
     "output_type": "stream",
     "text": [
      "Updated balance: 7000.0\n",
      "\n",
      "--- Bank Menu ---\n",
      "1. Withdraw Cash\n",
      "2. Credit Cash\n",
      "3. Change Password\n",
      "4. Exit\n"
     ]
    },
    {
     "name": "stdin",
     "output_type": "stream",
     "text": [
      "Enter your choice (1-4):  4\n"
     ]
    },
    {
     "name": "stdout",
     "output_type": "stream",
     "text": [
      "Thank you for using our bank system.\n"
     ]
    }
   ],
   "source": [
    "def withdraw(balance, amount):\n",
    "    if amount <= balance:\n",
    "        return balance - amount\n",
    "    else:\n",
    "        print(\"Insufficient balance.\")\n",
    "        return balance\n",
    "\n",
    "def credit(balance, amount):\n",
    "    return balance + amount\n",
    "\n",
    "def change_password(old_pwd):\n",
    "    new_pwd = input(\"Enter new password: \")\n",
    "    if new_pwd == old_pwd:\n",
    "        print(\"New password can't be same as old password.\")\n",
    "        return old_pwd\n",
    "    else:\n",
    "        print(\"Password changed successfully.\")\n",
    "        return new_pwd\n",
    "\n",
    "# Initial setup\n",
    "balance = 5000\n",
    "password = \"1234\"\n",
    "\n",
    "while True:\n",
    "    print(\"\\n--- Bank Menu ---\")\n",
    "    print(\"1. Withdraw Cash\")\n",
    "    print(\"2. Credit Cash\")\n",
    "    print(\"3. Change Password\")\n",
    "    print(\"4. Exit\")\n",
    "    choice = input(\"Enter your choice (1-4): \")\n",
    "\n",
    "    if choice == '1':\n",
    "        amt = float(input(\"Enter amount to withdraw: \"))\n",
    "        balance = withdraw(balance, amt)\n",
    "        print(f\"Remaining balance: {balance}\")\n",
    "    elif choice == '2':\n",
    "        amt = float(input(\"Enter amount to credit: \"))\n",
    "        balance = credit(balance, amt)\n",
    "        print(f\"Updated balance: {balance}\")\n",
    "    elif choice == '3':\n",
    "        password = change_password(password)\n",
    "    elif choice == '4':\n",
    "        print(\"Thank you for using our bank system.\")\n",
    "        break\n",
    "    else:\n",
    "        print(\"Invalid choice.\")\n"
   ]
  },
  {
   "cell_type": "code",
   "execution_count": 13,
   "id": "18fe5330-cf9f-4d1b-86cc-64ebc2d6c509",
   "metadata": {},
   "outputs": [
    {
     "name": "stdout",
     "output_type": "stream",
     "text": [
      "2002,2009,2016,2023,2037,2044,2051,2058,2072,2079,2086,2093,2107,2114,2121,2128,2142,2149,2156,2163,2177,2184,2191,2198,2212,2219,2226,2233,2247,2254,2261,2268,2282,2289,2296,2303,2317,2324,2331,2338,2352,2359,2366,2373,2387,2394,2401,2408,2422,2429,2436,2443,2457,2464,2471,2478,2492,2499,2506,2513,2527,2534,2541,2548,2562,2569,2576,2583,2597,2604,2611,2618,2632,2639,2646,2653,2667,2674,2681,2688,2702,2709,2716,2723,2737,2744,2751,2758,2772,2779,2786,2793,2807,2814,2821,2828,2842,2849,2856,2863,2877,2884,2891,2898,2912,2919,2926,2933,2947,2954,2961,2968,2982,2989,2996,3003,3017,3024,3031,3038,3052,3059,3066,3073,3087,3094,3101,3108,3122,3129,3136,3143,3157,3164,3171,3178,3192,3199\n"
     ]
    }
   ],
   "source": [
    "result = []\n",
    "\n",
    "for i in range(2000, 3201):  # Including 3200\n",
    "    if i % 7 == 0 and i % 5 != 0:\n",
    "        result.append(str(i))\n",
    "\n",
    "print(\",\".join(result))\n"
   ]
  },
  {
   "cell_type": "code",
   "execution_count": 15,
   "id": "aa402194-db7c-452e-9aed-6722bf1f3c0b",
   "metadata": {},
   "outputs": [
    {
     "name": "stdin",
     "output_type": "stream",
     "text": [
      "Enter a number:  34\n"
     ]
    },
    {
     "name": "stdout",
     "output_type": "stream",
     "text": [
      "Factorial of 34 is 295232799039604140847618609643520000000\n"
     ]
    }
   ],
   "source": [
    "def factorial(n):\n",
    "    if n == 0 or n == 1:\n",
    "        return 1\n",
    "    else:\n",
    "        return n * factorial(n - 1)\n",
    "\n",
    "# Input\n",
    "num = int(input(\"Enter a number: \"))\n",
    "print(f\"Factorial of {num} is {factorial(num)}\")\n"
   ]
  },
  {
   "cell_type": "code",
   "execution_count": 17,
   "id": "9e4fa7f7-fdce-42a9-9542-3ddd3c7d2252",
   "metadata": {},
   "outputs": [
    {
     "name": "stdin",
     "output_type": "stream",
     "text": [
      "Enter D values (comma-separated):  4,5\n"
     ]
    },
    {
     "name": "stdout",
     "output_type": "stream",
     "text": [
      "4,4\n"
     ]
    }
   ],
   "source": [
    "import math\n",
    "\n",
    "C = 50\n",
    "H = 30\n",
    "\n",
    "# Input\n",
    "D_values = input(\"Enter D values (comma-separated): \").split(\",\")\n",
    "result = []\n",
    "\n",
    "for D in D_values:\n",
    "    D = int(D)\n",
    "    Q = round(math.sqrt((2 * C * D) / H))\n",
    "    result.append(str(Q))\n",
    "\n",
    "print(\",\".join(result))\n"
   ]
  },
  {
   "cell_type": "code",
   "execution_count": 21,
   "id": "6efef582-86dc-42c7-ae73-6006c7856d57",
   "metadata": {},
   "outputs": [
    {
     "name": "stdin",
     "output_type": "stream",
     "text": [
      "Enter 2 digits (X,Y):  3,6\n"
     ]
    },
    {
     "name": "stdout",
     "output_type": "stream",
     "text": [
      "[[0, 0, 0, 0, 0, 0], [0, 1, 2, 3, 4, 5], [0, 2, 4, 6, 8, 10]]\n"
     ]
    }
   ],
   "source": [
    "# Input\n",
    "x, y = map(int, input(\"Enter 2 digits (X,Y): \").split(\",\"))\n",
    "\n",
    "# Generate 2D array\n",
    "array = [[i * j for j in range(y)] for i in range(x)]\n",
    "print(array)\n"
   ]
  },
  {
   "cell_type": "code",
   "execution_count": 23,
   "id": "6a84ee18-a193-4b3a-bb3f-c38d9f9b45db",
   "metadata": {},
   "outputs": [
    {
     "name": "stdin",
     "output_type": "stream",
     "text": [
      "Enter comma-separated words:  3,9\n"
     ]
    },
    {
     "name": "stdout",
     "output_type": "stream",
     "text": [
      "3,9\n"
     ]
    }
   ],
   "source": [
    "# Input\n",
    "words = input(\"Enter comma-separated words: \").split(\",\")\n",
    "\n",
    "# Sort and print\n",
    "words.sort()\n",
    "print(\",\".join(words))\n"
   ]
  },
  {
   "cell_type": "code",
   "execution_count": null,
   "id": "8a8e1f49-e0c3-4d29-b816-97fb281f4ac7",
   "metadata": {},
   "outputs": [],
   "source": [
    "print(\"Enter lines (press Ctrl+D or Ctrl+Z to end):\")\n",
    "lines = []\n",
    "\n",
    "try:\n",
    "    while True:\n",
    "        line = input()\n",
    "        lines.append(line.upper())\n",
    "except EOFError:\n",
    "    pass\n",
    "\n",
    "for line in lines:\n",
    "    print(line)\n"
   ]
  },
  {
   "cell_type": "code",
   "execution_count": null,
   "id": "0661a054-a1e3-4304-8af6-7649bcb0b1db",
   "metadata": {},
   "outputs": [],
   "source": [
    "# Input\n",
    "words = input(\"Enter words: \").split()\n",
    "\n",
    "# Remove duplicates and sort\n",
    "unique_words = sorted(set(words))\n",
    "\n",
    "# Print result\n",
    "print(\" \".join(unique_words))\n"
   ]
  },
  {
   "cell_type": "code",
   "execution_count": null,
   "id": "b8159c9a-2e19-44a6-b864-5d7bda3450b1",
   "metadata": {},
   "outputs": [],
   "source": [
    "# Input\n",
    "binary_numbers = input(\"Enter 4-digit binary numbers (comma-separated): \").split(\",\")\n",
    "\n",
    "# Filter and convert\n",
    "divisible_by_5 = [b for b in binary_numbers if int(b, 2) % 5 == 0]\n",
    "\n",
    "print(\",\".join(divisible_by_5))\n"
   ]
  },
  {
   "cell_type": "code",
   "execution_count": null,
   "id": "ea086e22-4360-4d81-88ec-3af77851b9b8",
   "metadata": {},
   "outputs": [],
   "source": [
    "import math\n",
    "\n",
    "# List of float numbers\n",
    "numbers = [0.1, 0.2, 0.3, 0.4, 0.5]\n",
    "\n",
    "# Using built-in sum\n",
    "print(\"Using sum():\", sum(numbers))\n",
    "\n",
    "# Using math.fsum (more accurate for floating-point arithmetic)\n",
    "print(\"Using math.fsum():\", math.fsum(numbers))\n"
   ]
  },
  {
   "cell_type": "code",
   "execution_count": null,
   "id": "188b1ca6-5763-454c-a195-45cbaf54c159",
   "metadata": {},
   "outputs": [],
   "source": [
    "import math\n",
    "\n",
    "# List of float numbers\n",
    "numbers = [0.1, 0.2, 0.3, 0.4, 0.5]\n",
    "\n",
    "# Using built-in sum\n",
    "print(\"Using sum():\", sum(numbers))\n",
    "\n",
    "# Using math.fsum (more accurate for floating-point arithmetic)\n",
    "print(\"Using math.fsum():\", math.fsum(numbers))\n"
   ]
  },
  {
   "cell_type": "code",
   "execution_count": null,
   "id": "1bf2e1fe-440d-44f5-8de8-f0956e454d20",
   "metadata": {},
   "outputs": [],
   "source": []
  }
 ],
 "metadata": {
  "kernelspec": {
   "display_name": "Python 3 (ipykernel)",
   "language": "python",
   "name": "python3"
  },
  "language_info": {
   "codemirror_mode": {
    "name": "ipython",
    "version": 3
   },
   "file_extension": ".py",
   "mimetype": "text/x-python",
   "name": "python",
   "nbconvert_exporter": "python",
   "pygments_lexer": "ipython3",
   "version": "3.12.7"
  }
 },
 "nbformat": 4,
 "nbformat_minor": 5
}
