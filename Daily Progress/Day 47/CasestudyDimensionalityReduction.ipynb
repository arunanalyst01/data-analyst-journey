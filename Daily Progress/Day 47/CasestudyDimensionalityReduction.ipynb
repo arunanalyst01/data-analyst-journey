{
 "cells": [
  {
   "cell_type": "code",
   "execution_count": null,
   "id": "eb6c9183-8ff1-40c2-8fa1-57a94d8fcd47",
   "metadata": {},
   "outputs": [],
   "source": [
    "from sklearn.datasets import load_digits\n",
    "from sklearn.model_selection import train_test_split\n",
    "\n",
    "# Load digits dataset\n",
    "digits = load_digits()\n",
    "X = digits.data\n",
    "y = digits.target\n",
    "\n",
    "# Train-Test Split (80-20)\n",
    "X_train, X_test, y_train, y_test = train_test_split(X, y, test_size=0.2, random_state=42)\n"
   ]
  },
  {
   "cell_type": "code",
   "execution_count": null,
   "id": "572bb50d-e64e-4e96-9a87-7f6ac281dab5",
   "metadata": {},
   "outputs": [],
   "source": [
    "from sklearn.discriminant_analysis import LinearDiscriminantAnalysis\n",
    "\n",
    "# Create LDA model\n",
    "lda = LinearDiscriminantAnalysis()\n",
    "\n",
    "# Fit on training data\n",
    "lda.fit(X_train, y_train)\n",
    "\n",
    "# Transform data\n",
    "X_train_lda = lda.transform(X_train)\n",
    "X_test_lda = lda.transform(X_test)\n",
    "\n",
    "# Number of components\n",
    "print(\"Number of LDA components:\", X_train_lda.shape[1])\n"
   ]
  },
  {
   "cell_type": "code",
   "execution_count": null,
   "id": "b9ac7a15-1116-4fa2-8974-78fe0585c989",
   "metadata": {},
   "outputs": [],
   "source": [
    "from sklearn.linear_model import LogisticRegression\n",
    "from sklearn.metrics import accuracy_score\n",
    "\n",
    "# Fit logistic regression on LDA-transformed data\n",
    "log_reg = LogisticRegression(max_iter=10000)\n",
    "log_reg.fit(X_train_lda, y_train)\n",
    "\n",
    "# Predict and evaluate\n",
    "y_pred_lda = log_reg.predict(X_test_lda)\n",
    "lda_accuracy = accuracy_score(y_test, y_pred_lda)\n",
    "print(\"LDA + Logistic Regression Accuracy:\", lda_accuracy)\n"
   ]
  },
  {
   "cell_type": "code",
   "execution_count": null,
   "id": "0e4fc360-e514-411f-9305-563df5c26d6f",
   "metadata": {},
   "outputs": [],
   "source": [
    "from sklearn.decomposition import PCA\n",
    "\n",
    "# PCA fit and transform\n",
    "pca = PCA(n_components=0.95)  # Keep 95% variance\n",
    "X_train_pca = pca.fit_transform(X_train)\n",
    "X_test_pca = pca.transform(X_test)\n",
    "\n",
    "# Logistic Regression on PCA-transformed data\n",
    "log_reg_pca = LogisticRegression(max_iter=10000)\n",
    "log_reg_pca.fit(X_train_pca, y_train)\n",
    "y_pred_pca = log_reg_pca.predict(X_test_pca)\n",
    "pca_accuracy = accuracy_score(y_test, y_pred_pca)\n",
    "\n",
    "print(\"PCA + Logistic Regression Accuracy:\", pca_accuracy)\n",
    "print(\"Number of PCA components:\", X_train_pca.shape[1])\n"
   ]
  }
 ],
 "metadata": {
  "kernelspec": {
   "display_name": "Python 3 (ipykernel)",
   "language": "python",
   "name": "python3"
  },
  "language_info": {
   "codemirror_mode": {
    "name": "ipython",
    "version": 3
   },
   "file_extension": ".py",
   "mimetype": "text/x-python",
   "name": "python",
   "nbconvert_exporter": "python",
   "pygments_lexer": "ipython3",
   "version": "3.12.7"
  }
 },
 "nbformat": 4,
 "nbformat_minor": 5
}
