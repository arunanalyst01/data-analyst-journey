{
 "cells": [
  {
   "cell_type": "code",
   "execution_count": null,
   "id": "e1f4b6cf-9245-40f7-bcd8-766d2a3a4d58",
   "metadata": {},
   "outputs": [],
   "source": [
    "## Load The Data Set\n",
    "import pandas as pd\n",
    "df = pd.read_csv('raw_dataset.csv')\n",
    "print(df.info())\n",
    "print(df.head())\n"
   ]
  },
  {
   "cell_type": "code",
   "execution_count": null,
   "id": "85b83d9d-f6c3-4e4b-9efa-f76dced6a2b6",
   "metadata": {},
   "outputs": [],
   "source": [
    "## Missing Values\n",
    "print(df.isnull().sum())\n",
    "df = df.dropna(subset=['important_col'])\n"
   ]
  },
  {
   "cell_type": "code",
   "execution_count": null,
   "id": "243fc4e2-31f3-477f-a90e-0ade8374cfd9",
   "metadata": {},
   "outputs": [],
   "source": [
    "## Missing Values\n",
    "before = len(df)\n",
    "df = df.drop_duplicates()\n",
    "after = len(df)\n",
    "print(f\"Dropped {before - after} duplicate rows\")\n"
   ]
  },
  {
   "cell_type": "code",
   "execution_count": null,
   "id": "fba1c6b0-b1a0-4e94-a23b-78c74dc98624",
   "metadata": {},
   "outputs": [],
   "source": [
    "##Standardize Text Fields\n",
    "df['gender'] = df['gender'].str.strip().str.lower()\n",
    "df['gender'].replace({'m':'male', 'f':'female'}, inplace=True)\n",
    "df['country'] = df['country'].str.title().replace({'Usa':'USA','Uk':'UK'})"
   ]
  },
  {
   "cell_type": "code",
   "execution_count": null,
   "id": "2f387cd1-d05f-4443-869a-ab76432544a4",
   "metadata": {},
   "outputs": [],
   "source": [
    "##Normalize Date Formats\n",
    "df['signup_date'] = pd.to_datetime(df['signup_date'], dayfirst=True, errors='coerce')"
   ]
  },
  {
   "cell_type": "code",
   "execution_count": null,
   "id": "9513d856-2ff3-4495-b781-052712a71dec",
   "metadata": {},
   "outputs": [],
   "source": [
    "##Correct Data Types\n",
    "df['age'] = df['age'].astype(pd.Int64Dtype())\n",
    "df['signup_date'] = pd.to_datetime(df['signup_date'])"
   ]
  },
  {
   "cell_type": "code",
   "execution_count": null,
   "id": "1f2cbe69-4c25-499b-ae61-c91831953141",
   "metadata": {},
   "outputs": [],
   "source": []
  },
  {
   "cell_type": "code",
   "execution_count": null,
   "id": "95fd80f2-9aab-4912-a501-ac55c5a91415",
   "metadata": {},
   "outputs": [],
   "source": []
  },
  {
   "cell_type": "code",
   "execution_count": null,
   "id": "9a7757e2-ae82-40ef-ad93-e728cef6ee0c",
   "metadata": {},
   "outputs": [],
   "source": []
  }
 ],
 "metadata": {
  "kernelspec": {
   "display_name": "Python 3 (ipykernel)",
   "language": "python",
   "name": "python3"
  },
  "language_info": {
   "codemirror_mode": {
    "name": "ipython",
    "version": 3
   },
   "file_extension": ".py",
   "mimetype": "text/x-python",
   "name": "python",
   "nbconvert_exporter": "python",
   "pygments_lexer": "ipython3",
   "version": "3.12.7"
  }
 },
 "nbformat": 4,
 "nbformat_minor": 5
}
