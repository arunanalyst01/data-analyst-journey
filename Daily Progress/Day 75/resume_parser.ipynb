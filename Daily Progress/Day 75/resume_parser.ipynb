{
 "cells": [
  {
   "cell_type": "code",
   "execution_count": 16,
   "id": "b175e67a-168f-4f54-b334-372f37a88190",
   "metadata": {},
   "outputs": [
    {
     "name": "stdout",
     "output_type": "stream",
     "text": [
      "Requirement already satisfied: pdfminer.six in c:\\users\\aruna\\anaconda3\\lib\\site-packages (20250506)\n",
      "Requirement already satisfied: charset-normalizer>=2.0.0 in c:\\users\\aruna\\anaconda3\\lib\\site-packages (from pdfminer.six) (3.3.2)\n",
      "Requirement already satisfied: cryptography>=36.0.0 in c:\\users\\aruna\\anaconda3\\lib\\site-packages (from pdfminer.six) (43.0.0)\n",
      "Requirement already satisfied: cffi>=1.12 in c:\\users\\aruna\\anaconda3\\lib\\site-packages (from cryptography>=36.0.0->pdfminer.six) (1.17.1)\n",
      "Requirement already satisfied: pycparser in c:\\users\\aruna\\anaconda3\\lib\\site-packages (from cffi>=1.12->cryptography>=36.0.0->pdfminer.six) (2.21)\n"
     ]
    }
   ],
   "source": [
    "!pip install pdfminer.six"
   ]
  },
  {
   "cell_type": "code",
   "execution_count": 18,
   "id": "275349cc-3395-4ae7-927a-83202d2c3b58",
   "metadata": {},
   "outputs": [
    {
     "name": "stdout",
     "output_type": "stream",
     "text": [
      "✅ pdfminer is working!\n"
     ]
    }
   ],
   "source": [
    "from pdfminer.high_level import extract_text\n",
    "print(\"✅ pdfminer is working!\")"
   ]
  },
  {
   "cell_type": "code",
   "execution_count": 20,
   "id": "773195a9-8cc0-4393-8dfd-726ff3bab01e",
   "metadata": {},
   "outputs": [
    {
     "name": "stdout",
     "output_type": "stream",
     "text": [
      "Arunachalam\n",
      "\n",
      "arunachalam012001@gmail.com \n",
      "\n",
      "8489472154 \n",
      "\n",
      "kancheepuram \n",
      "\n",
      "Education\n",
      "\n",
      "VELS INSTITUTE OF TECHNOLOGY AND ADVANCE STUDIES\n",
      "Msc Data Science & Business Analyst\n",
      "\n",
      "VELS INSTITUTE OF TECHNOLOGY AND ADVANCE STUDIES\n",
      "BCA (GENERAL )\n",
      "\n",
      "Professional Experience\n",
      "\n",
      "JEPPIAAR INSTITUTE OF TECHNOLOGY\n",
      "SYSTEM ADMINISTRATOR\n",
      "Managed IT systems and databases, ensured smooth operation of software \n",
      "tools, and supported technical tasks that required attention to detail\n",
      "\n",
      "ROYAL ENFIELD\n",
      "INVENTORY ANALYST\n",
      "Worked as an Inventory Analyst handling product data, improving data \n",
      "accuracy, and supporting operations with data-driven insights\n",
      "\n",
      "08/2024 – 07/2026\n",
      "PALLAVARAM\n",
      "\n",
      "08/2019 – 07/2022\n",
      "\n",
      "12/2023 – 06/2024\n",
      "KANCHEEPURAM\n",
      "\n",
      "07/2022 – 03/2023\n",
      "ORAGADAM\n",
      "\n",
      "DOMINOS\n",
      "PART-Guest Service Representative\n",
      "Developed time management and communication skills while balancing work \n",
      "and studies in a fast-paced environment\n",
      "\n",
      "04/2023 – 11/2023\n",
      "HSR - LAYOUT\n",
      "KARNATAKA\n",
      "\n",
      "Profile\n",
      "\n",
      "Aspiring Data Analyst with hands-on skills in SQL, Excel, Pytho\n"
     ]
    }
   ],
   "source": [
    "def extract_resume_text(file_path):\n",
    "    try:\n",
    "        text = extract_text(file_path)\n",
    "        return text\n",
    "    except Exception as e:\n",
    "        return f\"Error reading file: {e}\"\n",
    "\n",
    "# Try it\n",
    "resume_path = \"E:/ResumeMentor-AI/datasets/resume_dataset/Arunachalam-Resume.pdf\"\n",
    "text = extract_resume_text(resume_path)\n",
    "print(text[:1000])  # show first 1000 characters\n"
   ]
  },
  {
   "cell_type": "code",
   "execution_count": null,
   "id": "09076a6e-482a-4c50-8662-ea9141db6b03",
   "metadata": {},
   "outputs": [],
   "source": []
  }
 ],
 "metadata": {
  "kernelspec": {
   "display_name": "Python 3 (ipykernel)",
   "language": "python",
   "name": "python3"
  },
  "language_info": {
   "codemirror_mode": {
    "name": "ipython",
    "version": 3
   },
   "file_extension": ".py",
   "mimetype": "text/x-python",
   "name": "python",
   "nbconvert_exporter": "python",
   "pygments_lexer": "ipython3",
   "version": "3.12.7"
  }
 },
 "nbformat": 4,
 "nbformat_minor": 5
}
