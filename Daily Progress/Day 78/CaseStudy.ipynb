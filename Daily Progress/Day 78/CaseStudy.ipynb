{
 "cells": [
  {
   "cell_type": "code",
   "execution_count": null,
   "id": "a7eaea0f-e59f-436f-8df6-3c4b3e85f69c",
   "metadata": {},
   "outputs": [],
   "source": [
    "from sklearn.datasets import load_digits\n",
    "import matplotlib.pyplot as plt\n",
    "\n",
    "# Load digits dataset\n",
    "digits = load_digits()\n",
    "\n",
    "# Helper function to plot digit image\n",
    "def plot_digit(index):\n",
    "    plt.imshow(digits.images[index], cmap='gray')\n",
    "    plt.title(f\"Label: {digits.target[index]}\")\n",
    "    plt.axis('off')\n",
    "    plt.show()\n",
    "\n",
    "# Example: Plot the 0th digit\n",
    "plot_digit(0)\n"
   ]
  },
  {
   "cell_type": "code",
   "execution_count": null,
   "id": "4e18f7dd-f63e-429a-87a1-1a2c1fe4c35f",
   "metadata": {},
   "outputs": [],
   "source": [
    "from sklearn.linear_model import LogisticRegression\n",
    "from sklearn.model_selection import train_test_split\n",
    "from sklearn.metrics import accuracy_score\n",
    "\n",
    "# Split into train and test sets\n",
    "X_train, X_test, y_train, y_test = train_test_split(\n",
    "    digits.data, digits.target, test_size=0.2, random_state=42)\n",
    "\n",
    "# Fit logistic regression\n",
    "model = LogisticRegression(max_iter=10000)\n",
    "model.fit(X_train, y_train)\n",
    "\n",
    "# Predict and calculate accuracy\n",
    "y_pred = model.predict(X_test)\n",
    "acc_original = accuracy_score(y_test, y_pred)\n",
    "print(f\"Accuracy without PCA: {acc_original:.4f}\")\n"
   ]
  },
  {
   "cell_type": "code",
   "execution_count": null,
   "id": "ff5879bd-1536-46b9-9f71-d21ea678eafd",
   "metadata": {},
   "outputs": [],
   "source": [
    "from sklearn.decomposition import PCA\n",
    "\n",
    "# Apply PCA to keep 95% variance\n",
    "pca = PCA(n_components=0.95)\n",
    "pca.fit(X_train)\n",
    "\n",
    "# How many components?\n",
    "print(f\"Number of PCA components to explain 95% variance: {pca.n_components_}\")\n"
   ]
  },
  {
   "cell_type": "code",
   "execution_count": null,
   "id": "a18fd647-b34f-47aa-95cf-5693103432f0",
   "metadata": {},
   "outputs": [],
   "source": [
    "# Transform train and test data\n",
    "X_train_pca = pca.transform(X_train)\n",
    "X_test_pca = pca.transform(X_test)\n",
    "\n",
    "# Fit logistic regression on PCA-transformed data\n",
    "model_pca = LogisticRegression(max_iter=10000)\n",
    "model_pca.fit(X_train_pca, y_train)\n",
    "\n",
    "# Predict and calculate accuracy\n",
    "y_pred_pca = model_pca.predict(X_test_pca)\n",
    "acc_pca = accuracy_score(y_test, y_pred_pca)\n",
    "print(f\"Accuracy with PCA: {acc_pca:.4f}\")\n",
    "\n",
    "# Compare results\n",
    "print(f\"Accuracy Difference: {acc_original - acc_pca:.4f}\")\n"
   ]
  },
  {
   "cell_type": "code",
   "execution_count": null,
   "id": "c39f9a8a-a5b4-464e-b9d0-04cdce0918d2",
   "metadata": {},
   "outputs": [],
   "source": [
    "from sklearn.metrics import confusion_matrix\n",
    "\n",
    "# Confusion matrix\n",
    "cm = confusion_matrix(y_test, y_pred_pca)\n",
    "\n",
    "# Count misclassified samples\n",
    "wrong_indices = [i for i in range(len(y_test)) if y_test[i] != y_pred_pca[i]]\n",
    "print(f\"Total misclassified samples: {len(wrong_indices)}\")\n",
    "\n",
    "# Plot wrong predictions\n",
    "for i in wrong_indices[:10]:  # limiting to 10 plots\n",
    "    plt.imshow(X_test[i].reshape(8, 8), cmap='gray')\n",
    "    plt.title(f\"Predicted: {y_pred_pca[i]}, Actual: {y_test[i]}\")\n",
    "    plt.axis('off')\n",
    "    plt.show()\n"
   ]
  }
 ],
 "metadata": {
  "kernelspec": {
   "display_name": "Python 3 (ipykernel)",
   "language": "python",
   "name": "python3"
  },
  "language_info": {
   "codemirror_mode": {
    "name": "ipython",
    "version": 3
   },
   "file_extension": ".py",
   "mimetype": "text/x-python",
   "name": "python",
   "nbconvert_exporter": "python",
   "pygments_lexer": "ipython3",
   "version": "3.12.7"
  }
 },
 "nbformat": 4,
 "nbformat_minor": 5
}
