{
 "cells": [
  {
   "cell_type": "code",
   "execution_count": null,
   "id": "3d4e7aaa-4d42-42d4-9037-5a9afd9dfe1f",
   "metadata": {},
   "outputs": [],
   "source": [
    "import pandas as pd\n",
    "\n",
    "# Load data\n",
    "df = pd.read_csv('loan_borowwer_data.csv')\n",
    "\n",
    "# Basic info\n",
    "print(df.info())\n",
    "print(df.head())\n",
    "# Check missing values\n",
    "print(df.isnull().sum())\n",
    "\n",
    "# Drop or impute missing values\n",
    "df = df.dropna()  # Or use SimpleImputer if needed\n",
    "# One-hot encode the 'purpose' column\n",
    "df = pd.get_dummies(df, columns=['purpose'], drop_first=True)\n",
    "# Separate X and y\n",
    "X = df.drop('not.fully.paid', axis=1)\n",
    "y = df['not.fully.paid']\n",
    "from sklearn.model_selection import train_test_split\n",
    "\n",
    "X_train, X_test, y_train, y_test = train_test_split(X, y, test_size=0.2, random_state=42)\n",
    "from sklearn.tree import DecisionTreeClassifier\n",
    "from sklearn.metrics import classification_report, confusion_matrix\n",
    "\n",
    "# Train model\n",
    "dt = DecisionTreeClassifier(random_state=42)\n",
    "dt.fit(X_train, y_train)\n",
    "\n",
    "# Predict\n",
    "y_pred_dt = dt.predict(X_test)\n",
    "\n",
    "# Evaluate\n",
    "print(\"Decision Tree Results\")\n",
    "print(confusion_matrix(y_test, y_pred_dt))\n",
    "print(classification_report(y_test, y_pred_dt))\n",
    "from sklearn.ensemble import RandomForestClassifier\n",
    "\n",
    "# Train model\n",
    "rf = RandomForestClassifier(n_estimators=100, random_state=42)\n",
    "rf.fit(X_train, y_train)\n",
    "\n",
    "# Predict\n",
    "y_pred_rf = rf.predict(X_test)\n",
    "\n",
    "# Evaluate\n",
    "print(\"Random Forest Results\")\n",
    "print(confusion_matrix(y_test, y_pred_rf))\n",
    "print(classification_report(y_test, y_pred_rf))\n",
    "from sklearn.metrics import roc_auc_score\n",
    "\n",
    "print(\"ROC AUC - Decision Tree:\", roc_auc_score(y_test, y_pred_dt))\n",
    "print(\"ROC AUC - Random Forest:\", roc_auc_score(y_test, y_pred_rf))\n"
   ]
  }
 ],
 "metadata": {
  "kernelspec": {
   "display_name": "Python 3 (ipykernel)",
   "language": "python",
   "name": "python3"
  },
  "language_info": {
   "codemirror_mode": {
    "name": "ipython",
    "version": 3
   },
   "file_extension": ".py",
   "mimetype": "text/x-python",
   "name": "python",
   "nbconvert_exporter": "python",
   "pygments_lexer": "ipython3",
   "version": "3.12.7"
  }
 },
 "nbformat": 4,
 "nbformat_minor": 5
}
